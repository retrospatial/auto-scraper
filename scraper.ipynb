{
 "cells": [
  {
   "cell_type": "code",
   "execution_count": 1,
   "metadata": {},
   "outputs": [],
   "source": [
    "import requests\n",
    "from bs4 import BeautifulSoup"
   ]
  },
  {
   "cell_type": "code",
   "execution_count": 11,
   "metadata": {},
   "outputs": [],
   "source": [
    "response = requests.get(\"https://www.lrt.lt/en/news-in-english\")\n",
    "doc = BeautifulSoup(response.text)"
   ]
  },
  {
   "cell_type": "code",
   "execution_count": 12,
   "metadata": {},
   "outputs": [
    {
     "data": {
      "text/plain": [
       "42"
      ]
     },
     "execution_count": 12,
     "metadata": {},
     "output_type": "execute_result"
    }
   ],
   "source": [
    "items = doc.select(\".news\")\n",
    "len(items)"
   ]
  },
  {
   "cell_type": "code",
   "execution_count": 15,
   "metadata": {},
   "outputs": [
    {
     "data": {
      "text/plain": [
       "42"
      ]
     },
     "execution_count": 15,
     "metadata": {},
     "output_type": "execute_result"
    }
   ],
   "source": [
    "articles = []\n",
    "for item in items:\n",
    "    headline = item.select_one('h3').text\n",
    "    url = item.select_one('a')['href']\n",
    "    img = item.select_one('img').get('data-src', None)\n",
    "    article = {\n",
    "        'url': url,\n",
    "        'headline': headline,\n",
    "        'img_path': img\n",
    "    }\n",
    "    articles.append(article)\n",
    "len(articles)"
   ]
  },
  {
   "cell_type": "code",
   "execution_count": 16,
   "metadata": {},
   "outputs": [
    {
     "data": {
      "text/html": [
       "<div>\n",
       "<style scoped>\n",
       "    .dataframe tbody tr th:only-of-type {\n",
       "        vertical-align: middle;\n",
       "    }\n",
       "\n",
       "    .dataframe tbody tr th {\n",
       "        vertical-align: top;\n",
       "    }\n",
       "\n",
       "    .dataframe thead th {\n",
       "        text-align: right;\n",
       "    }\n",
       "</style>\n",
       "<table border=\"1\" class=\"dataframe\">\n",
       "  <thead>\n",
       "    <tr style=\"text-align: right;\">\n",
       "      <th></th>\n",
       "      <th>url</th>\n",
       "      <th>headline</th>\n",
       "      <th>img_path</th>\n",
       "    </tr>\n",
       "  </thead>\n",
       "  <tbody>\n",
       "    <tr>\n",
       "      <th>0</th>\n",
       "      <td>/en/news-in-english/19/2050571/lithuanian-pm-v...</td>\n",
       "      <td>Lithuanian PM voices confidence in defence min...</td>\n",
       "      <td>/img/2023/02/18/1451044-637891-150x84.jpg</td>\n",
       "    </tr>\n",
       "    <tr>\n",
       "      <th>1</th>\n",
       "      <td>/en/news-in-english/19/2050524/lithuania-deems...</td>\n",
       "      <td>Lithuania deems 1,164 Belarusian and Russian n...</td>\n",
       "      <td>/img/2022/03/01/1207094-733403-150x84.jpg</td>\n",
       "    </tr>\n",
       "    <tr>\n",
       "      <th>2</th>\n",
       "      <td>/en/news-in-english/19/2050519/vilnius-ex-mayo...</td>\n",
       "      <td>Vilnius ex-mayor Å imaÅ¡ius returns to private...</td>\n",
       "      <td>/img/2023/04/17/1491828-404400-150x84.jpg</td>\n",
       "    </tr>\n",
       "    <tr>\n",
       "      <th>3</th>\n",
       "      <td>/en/news-in-english/19/2050432/lithuania-s-sup...</td>\n",
       "      <td>Lithuania's support to Ukraine includes helico...</td>\n",
       "      <td>/img/2023/07/20/1555673-67448-150x84.jpg</td>\n",
       "    </tr>\n",
       "    <tr>\n",
       "      <th>4</th>\n",
       "      <td>/en/news-in-english/19/2050380/latvia-to-ask-t...</td>\n",
       "      <td>Latvia to ask thousands of Russian citizens to...</td>\n",
       "      <td>/img/2019/08/05/485338-154587-150x84.jpg</td>\n",
       "    </tr>\n",
       "  </tbody>\n",
       "</table>\n",
       "</div>"
      ],
      "text/plain": [
       "                                                 url  \\\n",
       "0  /en/news-in-english/19/2050571/lithuanian-pm-v...   \n",
       "1  /en/news-in-english/19/2050524/lithuania-deems...   \n",
       "2  /en/news-in-english/19/2050519/vilnius-ex-mayo...   \n",
       "3  /en/news-in-english/19/2050432/lithuania-s-sup...   \n",
       "4  /en/news-in-english/19/2050380/latvia-to-ask-t...   \n",
       "\n",
       "                                            headline  \\\n",
       "0  Lithuanian PM voices confidence in defence min...   \n",
       "1  Lithuania deems 1,164 Belarusian and Russian n...   \n",
       "2  Vilnius ex-mayor Å imaÅ¡ius returns to private...   \n",
       "3  Lithuania's support to Ukraine includes helico...   \n",
       "4  Latvia to ask thousands of Russian citizens to...   \n",
       "\n",
       "                                    img_path  \n",
       "0  /img/2023/02/18/1451044-637891-150x84.jpg  \n",
       "1  /img/2022/03/01/1207094-733403-150x84.jpg  \n",
       "2  /img/2023/04/17/1491828-404400-150x84.jpg  \n",
       "3   /img/2023/07/20/1555673-67448-150x84.jpg  \n",
       "4   /img/2019/08/05/485338-154587-150x84.jpg  "
      ]
     },
     "execution_count": 16,
     "metadata": {},
     "output_type": "execute_result"
    }
   ],
   "source": [
    "import pandas as pd\n",
    "\n",
    "df = pd.DataFrame(articles)\n",
    "df.head()"
   ]
  },
  {
   "cell_type": "markdown",
   "metadata": {},
   "source": [
    "## What to do with the results????\n",
    "\n",
    "### Approach 1: Save it to a simple single csv file.\n",
    "\n",
    "Just like https://github.com/jsoma/automatic-scraper-bbc\n",
    "\n",
    "I want a CSV that always has the most current list of headlines in it, and maybe i want to be able to see a diff of the changes every time something is updated. Great for easily browsing to a current date and time (or just date) in your dataset. "
   ]
  },
  {
   "cell_type": "code",
   "execution_count": 18,
   "metadata": {},
   "outputs": [],
   "source": [
    "df.to_csv('current-headlines.csv', index=False)"
   ]
  },
  {
   "cell_type": "markdown",
   "metadata": {},
   "source": [
    "### Approach 2: Save a different file every time we run the scraper\n",
    "\n",
    "This is good for having easily-accessible data that is maybe weekly or monthly or even daily if you don't mind having hundreds of files in a single folder."
   ]
  },
  {
   "cell_type": "code",
   "execution_count": 20,
   "metadata": {},
   "outputs": [],
   "source": [
    "import os\n",
    "\n",
    "# Try to create a folder called 'data'\n",
    "# and if it exists DON'T THROW AN ERROR\n",
    "# makedirs instead of mkdir because exist_ok works with it\n",
    "\n",
    "# this is important because the scraper will keep overwriting the data folder whenever this runs\n",
    "\n",
    "os.makedirs(\"data\", exist_ok=True)"
   ]
  },
  {
   "cell_type": "markdown",
   "metadata": {},
   "source": [
    "https://strftime.org/"
   ]
  },
  {
   "cell_type": "code",
   "execution_count": 23,
   "metadata": {},
   "outputs": [],
   "source": [
    "from datetime import datetime\n",
    "\n",
    "# This would keep track down to the second\n",
    "datetime.now().strftime(\"%Y-%m-%d_%H.%M.%S\")\n",
    "\n",
    "# This only does the day\n",
    "date_string = datetime.now().strftime(\"%Y-%m-%d\")\n",
    "filepath = f\"data/{date_string}.csv\"\n",
    "\n",
    "df.to_csv(filepath, index=False)"
   ]
  },
  {
   "cell_type": "markdown",
   "metadata": {},
   "source": [
    "### Approach 3: Appending to an existing CSV file\n",
    "\n",
    "This is when you want a snapshot of a point in time and you want to keep track of everything over time. Terrible example for headlines, but a great example for Kelly's here: https://github.com/kellywaldro/processing-times/"
   ]
  },
  {
   "cell_type": "code",
   "execution_count": 24,
   "metadata": {},
   "outputs": [
    {
     "data": {
      "text/html": [
       "<div>\n",
       "<style scoped>\n",
       "    .dataframe tbody tr th:only-of-type {\n",
       "        vertical-align: middle;\n",
       "    }\n",
       "\n",
       "    .dataframe tbody tr th {\n",
       "        vertical-align: top;\n",
       "    }\n",
       "\n",
       "    .dataframe thead th {\n",
       "        text-align: right;\n",
       "    }\n",
       "</style>\n",
       "<table border=\"1\" class=\"dataframe\">\n",
       "  <thead>\n",
       "    <tr style=\"text-align: right;\">\n",
       "      <th></th>\n",
       "      <th>url</th>\n",
       "      <th>headline</th>\n",
       "      <th>img_path</th>\n",
       "      <th>scrape_date</th>\n",
       "    </tr>\n",
       "  </thead>\n",
       "  <tbody>\n",
       "    <tr>\n",
       "      <th>0</th>\n",
       "      <td>/en/news-in-english/19/2050571/lithuanian-pm-v...</td>\n",
       "      <td>Lithuanian PM voices confidence in defence min...</td>\n",
       "      <td>/img/2023/02/18/1451044-637891-150x84.jpg</td>\n",
       "      <td>2023-08-04</td>\n",
       "    </tr>\n",
       "    <tr>\n",
       "      <th>1</th>\n",
       "      <td>/en/news-in-english/19/2050524/lithuania-deems...</td>\n",
       "      <td>Lithuania deems 1,164 Belarusian and Russian n...</td>\n",
       "      <td>/img/2022/03/01/1207094-733403-150x84.jpg</td>\n",
       "      <td>2023-08-04</td>\n",
       "    </tr>\n",
       "    <tr>\n",
       "      <th>2</th>\n",
       "      <td>/en/news-in-english/19/2050519/vilnius-ex-mayo...</td>\n",
       "      <td>Vilnius ex-mayor Å imaÅ¡ius returns to private...</td>\n",
       "      <td>/img/2023/04/17/1491828-404400-150x84.jpg</td>\n",
       "      <td>2023-08-04</td>\n",
       "    </tr>\n",
       "    <tr>\n",
       "      <th>3</th>\n",
       "      <td>/en/news-in-english/19/2050432/lithuania-s-sup...</td>\n",
       "      <td>Lithuania's support to Ukraine includes helico...</td>\n",
       "      <td>/img/2023/07/20/1555673-67448-150x84.jpg</td>\n",
       "      <td>2023-08-04</td>\n",
       "    </tr>\n",
       "    <tr>\n",
       "      <th>4</th>\n",
       "      <td>/en/news-in-english/19/2050380/latvia-to-ask-t...</td>\n",
       "      <td>Latvia to ask thousands of Russian citizens to...</td>\n",
       "      <td>/img/2019/08/05/485338-154587-150x84.jpg</td>\n",
       "      <td>2023-08-04</td>\n",
       "    </tr>\n",
       "  </tbody>\n",
       "</table>\n",
       "</div>"
      ],
      "text/plain": [
       "                                                 url  \\\n",
       "0  /en/news-in-english/19/2050571/lithuanian-pm-v...   \n",
       "1  /en/news-in-english/19/2050524/lithuania-deems...   \n",
       "2  /en/news-in-english/19/2050519/vilnius-ex-mayo...   \n",
       "3  /en/news-in-english/19/2050432/lithuania-s-sup...   \n",
       "4  /en/news-in-english/19/2050380/latvia-to-ask-t...   \n",
       "\n",
       "                                            headline  \\\n",
       "0  Lithuanian PM voices confidence in defence min...   \n",
       "1  Lithuania deems 1,164 Belarusian and Russian n...   \n",
       "2  Vilnius ex-mayor Å imaÅ¡ius returns to private...   \n",
       "3  Lithuania's support to Ukraine includes helico...   \n",
       "4  Latvia to ask thousands of Russian citizens to...   \n",
       "\n",
       "                                    img_path scrape_date  \n",
       "0  /img/2023/02/18/1451044-637891-150x84.jpg  2023-08-04  \n",
       "1  /img/2022/03/01/1207094-733403-150x84.jpg  2023-08-04  \n",
       "2  /img/2023/04/17/1491828-404400-150x84.jpg  2023-08-04  \n",
       "3   /img/2023/07/20/1555673-67448-150x84.jpg  2023-08-04  \n",
       "4   /img/2019/08/05/485338-154587-150x84.jpg  2023-08-04  "
      ]
     },
     "execution_count": 24,
     "metadata": {},
     "output_type": "execute_result"
    }
   ],
   "source": [
    "# Add a new column for today's date\n",
    "\n",
    "# You could just use datetime.now() and get the entire datetime\n",
    "# or another strftime but this is fine\n",
    "df['scrape_date'] = datetime.now().strftime(\"%Y-%m-%d\")\n",
    "df.head()"
   ]
  },
  {
   "cell_type": "code",
   "execution_count": 25,
   "metadata": {},
   "outputs": [
    {
     "data": {
      "text/html": [
       "<div>\n",
       "<style scoped>\n",
       "    .dataframe tbody tr th:only-of-type {\n",
       "        vertical-align: middle;\n",
       "    }\n",
       "\n",
       "    .dataframe tbody tr th {\n",
       "        vertical-align: top;\n",
       "    }\n",
       "\n",
       "    .dataframe thead th {\n",
       "        text-align: right;\n",
       "    }\n",
       "</style>\n",
       "<table border=\"1\" class=\"dataframe\">\n",
       "  <thead>\n",
       "    <tr style=\"text-align: right;\">\n",
       "      <th></th>\n",
       "    </tr>\n",
       "  </thead>\n",
       "  <tbody>\n",
       "  </tbody>\n",
       "</table>\n",
       "</div>"
      ],
      "text/plain": [
       "Empty DataFrame\n",
       "Columns: []\n",
       "Index: []"
      ]
     },
     "execution_count": 25,
     "metadata": {},
     "output_type": "execute_result"
    }
   ],
   "source": [
    "# If it exists, open it\n",
    "# If it doesn't, just make a blank dataframe\n",
    "# could also use os.path.exists to check if the file exists\n",
    "# but honestly try/except is the easiest route to go here\n",
    "try:\n",
    "    existing_df = pd.read_csv(\"always-updated.csv\")\n",
    "except:\n",
    "    existing_df = pd.DataFrame([])\n",
    "existing_df.head()"
   ]
  },
  {
   "cell_type": "code",
   "execution_count": 26,
   "metadata": {},
   "outputs": [
    {
     "data": {
      "text/html": [
       "<div>\n",
       "<style scoped>\n",
       "    .dataframe tbody tr th:only-of-type {\n",
       "        vertical-align: middle;\n",
       "    }\n",
       "\n",
       "    .dataframe tbody tr th {\n",
       "        vertical-align: top;\n",
       "    }\n",
       "\n",
       "    .dataframe thead th {\n",
       "        text-align: right;\n",
       "    }\n",
       "</style>\n",
       "<table border=\"1\" class=\"dataframe\">\n",
       "  <thead>\n",
       "    <tr style=\"text-align: right;\">\n",
       "      <th></th>\n",
       "      <th>url</th>\n",
       "      <th>headline</th>\n",
       "      <th>img_path</th>\n",
       "      <th>scrape_date</th>\n",
       "    </tr>\n",
       "  </thead>\n",
       "  <tbody>\n",
       "    <tr>\n",
       "      <th>0</th>\n",
       "      <td>/en/news-in-english/19/2050571/lithuanian-pm-v...</td>\n",
       "      <td>Lithuanian PM voices confidence in defence min...</td>\n",
       "      <td>/img/2023/02/18/1451044-637891-150x84.jpg</td>\n",
       "      <td>2023-08-04</td>\n",
       "    </tr>\n",
       "    <tr>\n",
       "      <th>1</th>\n",
       "      <td>/en/news-in-english/19/2050524/lithuania-deems...</td>\n",
       "      <td>Lithuania deems 1,164 Belarusian and Russian n...</td>\n",
       "      <td>/img/2022/03/01/1207094-733403-150x84.jpg</td>\n",
       "      <td>2023-08-04</td>\n",
       "    </tr>\n",
       "    <tr>\n",
       "      <th>2</th>\n",
       "      <td>/en/news-in-english/19/2050519/vilnius-ex-mayo...</td>\n",
       "      <td>Vilnius ex-mayor Å imaÅ¡ius returns to private...</td>\n",
       "      <td>/img/2023/04/17/1491828-404400-150x84.jpg</td>\n",
       "      <td>2023-08-04</td>\n",
       "    </tr>\n",
       "    <tr>\n",
       "      <th>3</th>\n",
       "      <td>/en/news-in-english/19/2050432/lithuania-s-sup...</td>\n",
       "      <td>Lithuania's support to Ukraine includes helico...</td>\n",
       "      <td>/img/2023/07/20/1555673-67448-150x84.jpg</td>\n",
       "      <td>2023-08-04</td>\n",
       "    </tr>\n",
       "    <tr>\n",
       "      <th>4</th>\n",
       "      <td>/en/news-in-english/19/2050380/latvia-to-ask-t...</td>\n",
       "      <td>Latvia to ask thousands of Russian citizens to...</td>\n",
       "      <td>/img/2019/08/05/485338-154587-150x84.jpg</td>\n",
       "      <td>2023-08-04</td>\n",
       "    </tr>\n",
       "  </tbody>\n",
       "</table>\n",
       "</div>"
      ],
      "text/plain": [
       "                                                 url  \\\n",
       "0  /en/news-in-english/19/2050571/lithuanian-pm-v...   \n",
       "1  /en/news-in-english/19/2050524/lithuania-deems...   \n",
       "2  /en/news-in-english/19/2050519/vilnius-ex-mayo...   \n",
       "3  /en/news-in-english/19/2050432/lithuania-s-sup...   \n",
       "4  /en/news-in-english/19/2050380/latvia-to-ask-t...   \n",
       "\n",
       "                                            headline  \\\n",
       "0  Lithuanian PM voices confidence in defence min...   \n",
       "1  Lithuania deems 1,164 Belarusian and Russian n...   \n",
       "2  Vilnius ex-mayor Å imaÅ¡ius returns to private...   \n",
       "3  Lithuania's support to Ukraine includes helico...   \n",
       "4  Latvia to ask thousands of Russian citizens to...   \n",
       "\n",
       "                                    img_path scrape_date  \n",
       "0  /img/2023/02/18/1451044-637891-150x84.jpg  2023-08-04  \n",
       "1  /img/2022/03/01/1207094-733403-150x84.jpg  2023-08-04  \n",
       "2  /img/2023/04/17/1491828-404400-150x84.jpg  2023-08-04  \n",
       "3   /img/2023/07/20/1555673-67448-150x84.jpg  2023-08-04  \n",
       "4   /img/2019/08/05/485338-154587-150x84.jpg  2023-08-04  "
      ]
     },
     "execution_count": 26,
     "metadata": {},
     "output_type": "execute_result"
    }
   ],
   "source": [
    "# Combine our new dataframe and our old dataframe\n",
    "# ignore_index=True \n",
    "combined = pd.concat([df, existing_df], ignore_index=True)\n",
    "combined.head()"
   ]
  },
  {
   "cell_type": "code",
   "execution_count": 27,
   "metadata": {},
   "outputs": [],
   "source": [
    "combined.to_csv(\"always-updated.csv\", index=False)"
   ]
  },
  {
   "cell_type": "code",
   "execution_count": null,
   "metadata": {},
   "outputs": [],
   "source": []
  }
 ],
 "metadata": {
  "kernelspec": {
   "display_name": "Python 3.10.11 64-bit ('3.10.11')",
   "language": "python",
   "name": "python3"
  },
  "language_info": {
   "codemirror_mode": {
    "name": "ipython",
    "version": 3
   },
   "file_extension": ".py",
   "mimetype": "text/x-python",
   "name": "python",
   "nbconvert_exporter": "python",
   "pygments_lexer": "ipython3",
   "version": "3.10.11"
  },
  "orig_nbformat": 4,
  "vscode": {
   "interpreter": {
    "hash": "1f1774605dbcbaefcb669af44d2b9d098d0a2039efb516c03653312a1ecf7578"
   }
  }
 },
 "nbformat": 4,
 "nbformat_minor": 2
}
